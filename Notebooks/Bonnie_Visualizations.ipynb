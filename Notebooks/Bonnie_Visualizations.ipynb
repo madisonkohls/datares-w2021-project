{
 "cells": [
  {
   "cell_type": "code",
   "execution_count": 149,
   "metadata": {},
   "outputs": [],
   "source": [
    "# import libraries\n",
    "import pandas as pd\n",
    "import numpy as np\n",
    "import matplotlib.pyplot as plt\n",
    "import seaborn as sns"
   ]
  },
  {
   "cell_type": "code",
   "execution_count": 150,
   "metadata": {},
   "outputs": [],
   "source": [
    "# The goal of this notebook is to examine 3 things:\n",
    "# 1. average revenue to budget ratio (scalar value)\n",
    "# 2. Does having a larger budget lead to more revenue?\n",
    "# 3. Does having a larger budget lead to better ratings?"
   ]
  },
  {
   "cell_type": "code",
   "execution_count": 151,
   "metadata": {},
   "outputs": [
    {
     "name": "stdout",
     "output_type": "stream",
     "text": [
      "21520\n"
     ]
    },
    {
     "data": {
      "text/html": [
       "<div>\n",
       "<style scoped>\n",
       "    .dataframe tbody tr th:only-of-type {\n",
       "        vertical-align: middle;\n",
       "    }\n",
       "\n",
       "    .dataframe tbody tr th {\n",
       "        vertical-align: top;\n",
       "    }\n",
       "\n",
       "    .dataframe thead th {\n",
       "        text-align: right;\n",
       "    }\n",
       "</style>\n",
       "<table border=\"1\" class=\"dataframe\">\n",
       "  <thead>\n",
       "    <tr style=\"text-align: right;\">\n",
       "      <th></th>\n",
       "      <th>budget</th>\n",
       "      <th>id</th>\n",
       "      <th>original_title</th>\n",
       "      <th>revenue</th>\n",
       "    </tr>\n",
       "  </thead>\n",
       "  <tbody>\n",
       "    <tr>\n",
       "      <th>0</th>\n",
       "      <td>30000000.0</td>\n",
       "      <td>862</td>\n",
       "      <td>Toy Story</td>\n",
       "      <td>373554033.0</td>\n",
       "    </tr>\n",
       "    <tr>\n",
       "      <th>1</th>\n",
       "      <td>65000000.0</td>\n",
       "      <td>8844</td>\n",
       "      <td>Jumanji</td>\n",
       "      <td>262797249.0</td>\n",
       "    </tr>\n",
       "    <tr>\n",
       "      <th>3</th>\n",
       "      <td>16000000.0</td>\n",
       "      <td>31357</td>\n",
       "      <td>Waiting to Exhale</td>\n",
       "      <td>81452156.0</td>\n",
       "    </tr>\n",
       "    <tr>\n",
       "      <th>5</th>\n",
       "      <td>60000000.0</td>\n",
       "      <td>949</td>\n",
       "      <td>Heat</td>\n",
       "      <td>187436818.0</td>\n",
       "    </tr>\n",
       "    <tr>\n",
       "      <th>8</th>\n",
       "      <td>35000000.0</td>\n",
       "      <td>9091</td>\n",
       "      <td>Sudden Death</td>\n",
       "      <td>64350171.0</td>\n",
       "    </tr>\n",
       "  </tbody>\n",
       "</table>\n",
       "</div>"
      ],
      "text/plain": [
       "       budget     id     original_title      revenue\n",
       "0  30000000.0    862          Toy Story  373554033.0\n",
       "1  65000000.0   8844            Jumanji  262797249.0\n",
       "3  16000000.0  31357  Waiting to Exhale   81452156.0\n",
       "5  60000000.0    949               Heat  187436818.0\n",
       "8  35000000.0   9091       Sudden Death   64350171.0"
      ]
     },
     "execution_count": 151,
     "metadata": {},
     "output_type": "execute_result"
    }
   ],
   "source": [
    "# read in cleaned movies metainformation\n",
    "metainfo_data = pd.read_csv('Datasets/cleaned-movies-metainformation.csv')\n",
    "\n",
    "# We only need budget, id, and revenue, so let's drop all of the other columns.\n",
    "metainfo_data.drop(['adult', 'belongs_to_collection', 'genres', 'original_language', 'popularity', 'production_companies', 'production_countries', 'release_date', 'runtime', 'spoken_languages', 'status', 'title', 'vote_average', 'vote_count'], axis = 1, inplace = True)\n",
    "\n",
    "# Now we want to get rid of all the rows where budget or revenue is null.\n",
    "index_names = metainfo_data[metainfo_data['budget'].isnull() | metainfo_data['revenue'].isnull()].index\n",
    "metainfo_data.drop(index_names, inplace = True)\n",
    "\n",
    "# To make sure we still have enough data to work with after dropping all of these rows, let's check the size of our dataframe.\n",
    "print(metainfo_data.size)\n",
    "# Seems like we have enough data to work with even after all the drops.\n",
    "\n",
    "# Proceed to check the first few columns of our dataframe.\n",
    "metainfo_data.head()\n",
    "# The data looks good, so let's move on!"
   ]
  },
  {
   "cell_type": "code",
   "execution_count": 152,
   "metadata": {},
   "outputs": [
    {
     "name": "stdout",
     "output_type": "stream",
     "text": [
      "1391.7330088091044\n"
     ]
    }
   ],
   "source": [
    "# The first thing we want to do is find the average revenue to budget ratio.\n",
    "\n",
    "# We can find this value by finding the revenue to budget ratio for each row and then averaging all of the ratios.\n",
    "ratios_sum = 0\n",
    "for index, row in metainfo_data.iterrows():\n",
    "    ratios_sum += row['revenue'] / row['budget']\n",
    "ratios_avg = ratios_sum / metainfo_data.size\n",
    "# The average revenue to budget ratio means that on average, for every dollar spent on the movie budget, 1391.73 dollars will be made in revenue.\n",
    "print(ratios_avg)"
   ]
  },
  {
   "cell_type": "code",
   "execution_count": 153,
   "metadata": {},
   "outputs": [
    {
     "name": "stderr",
     "output_type": "stream",
     "text": [
      "C:\\Users\\bonni\\anaconda3\\lib\\site-packages\\seaborn\\_decorators.py:36: FutureWarning: Pass the following variables as keyword args: x, y. From version 0.12, the only valid positional argument will be `data`, and passing other arguments without an explicit keyword will result in an error or misinterpretation.\n",
      "  warnings.warn(\n"
     ]
    },
    {
     "data": {
      "text/plain": [
       "Text(0.5, 1.0, 'Correlation between Movie Budget and Revenue')"
      ]
     },
     "execution_count": 153,
     "metadata": {},
     "output_type": "execute_result"
    },
    {
     "data": {
      "image/png": "[encoded data removed]",
      "text/plain": [
       "<Figure size 576x288 with 1 Axes>"
      ]
     },
     "metadata": {
      "needs_background": "light"
     },
     "output_type": "display_data"
    }
   ],
   "source": [
    "# The next thing we want to tackle is the following question: Does having a larger budget lead to more revenue?\n",
    "plt.figure(figsize=(8, 4))\n",
    "sns.regplot(metainfo_data['budget'], metainfo_data['revenue'], scatter_kws={'color':'skyblue'}, line_kws={'color':'c'}).set_title(\"Correlation between Movie Budget and Revenue\")"
   ]
  },
  {
   "cell_type": "code",
   "execution_count": 154,
   "metadata": {},
   "outputs": [
    {
     "name": "stdout",
     "output_type": "stream",
     "text": [
      "Avatar made the most revenue ( 2787965087.0 ) and only had a budget of 237000000.0\n",
      "Pirates of the Caribbean: On Stranger Tides had the largest budget ( 380000000.0 ) but only had a revenue of 1045713802.0\n"
     ]
    }
   ],
   "source": [
    "# Now let's examine the above graph in a little bit more detail. We notice that there are a couple of seemingly \"extreme\" points in our graph.\n",
    "\n",
    "# Notice that the movie that made the most revenue didn't have the highest budget. Let's find out the name of this movie.\n",
    "max_rev_index = metainfo_data[['revenue']].idxmax()\n",
    "max_rev_movie = metainfo_data._get_value(max_rev_index['revenue'], \"original_title\")\n",
    "print(max_rev_movie, \"made the most revenue (\", metainfo_data['revenue'].max(), \") and only had a budget of\", metainfo_data._get_value(max_rev_index['revenue'], \"budget\"))\n",
    "\n",
    "# On the other hand, notice that the movie that had the largest budget did not make the most revenue. Let's find out the name of this movie.\n",
    "max_budget_index = metainfo_data[['budget']].idxmax()\n",
    "max_budget_movie = metainfo_data._get_value(max_budget_index['budget'], \"original_title\")\n",
    "print(max_budget_movie, \"had the largest budget (\", metainfo_data['budget'].max(), \") but only had a revenue of\", metainfo_data._get_value(max_budget_index['budget'], \"revenue\"))"
   ]
  },
  {
   "cell_type": "code",
   "execution_count": 155,
   "metadata": {},
   "outputs": [
    {
     "data": {
      "text/html": [
       "<div>\n",
       "<style scoped>\n",
       "    .dataframe tbody tr th:only-of-type {\n",
       "        vertical-align: middle;\n",
       "    }\n",
       "\n",
       "    .dataframe tbody tr th {\n",
       "        vertical-align: top;\n",
       "    }\n",
       "\n",
       "    .dataframe thead th {\n",
       "        text-align: right;\n",
       "    }\n",
       "</style>\n",
       "<table border=\"1\" class=\"dataframe\">\n",
       "  <thead>\n",
       "    <tr style=\"text-align: right;\">\n",
       "      <th></th>\n",
       "      <th>movieId</th>\n",
       "      <th>rating</th>\n",
       "    </tr>\n",
       "  </thead>\n",
       "  <tbody>\n",
       "    <tr>\n",
       "      <th>0</th>\n",
       "      <td>1</td>\n",
       "      <td>3.872470</td>\n",
       "    </tr>\n",
       "    <tr>\n",
       "      <th>1</th>\n",
       "      <td>2</td>\n",
       "      <td>3.401869</td>\n",
       "    </tr>\n",
       "    <tr>\n",
       "      <th>2</th>\n",
       "      <td>3</td>\n",
       "      <td>3.161017</td>\n",
       "    </tr>\n",
       "    <tr>\n",
       "      <th>3</th>\n",
       "      <td>4</td>\n",
       "      <td>2.384615</td>\n",
       "    </tr>\n",
       "    <tr>\n",
       "      <th>4</th>\n",
       "      <td>5</td>\n",
       "      <td>3.267857</td>\n",
       "    </tr>\n",
       "  </tbody>\n",
       "</table>\n",
       "</div>"
      ],
      "text/plain": [
       "   movieId    rating\n",
       "0        1  3.872470\n",
       "1        2  3.401869\n",
       "2        3  3.161017\n",
       "3        4  2.384615\n",
       "4        5  3.267857"
      ]
     },
     "execution_count": 155,
     "metadata": {},
     "output_type": "execute_result"
    }
   ],
   "source": [
    "# And last but not least, does having a larger budget lead to better ratings?\n",
    "\n",
    "# To answer this question, we'll need to have to use data about movie ratings.\n",
    "ratings_data = pd.read_csv('Datasets/ratings_small.csv')\n",
    "\n",
    "# Let's get rid of the columns we don't need.\n",
    "ratings_data.drop(['timestamp', 'userId'], axis = 1, inplace = True)\n",
    "\n",
    "# Now we want to get rid of all the rows where rating is null or out of range. (The valid range for ratings_small.csv is between 0 and 5 inclusive.)\n",
    "index_names = ratings_data[ratings_data['rating'].isnull() | (ratings_data['rating'] < 0) | (ratings_data['rating'] > 5)].index\n",
    "metainfo_data.drop(index_names, inplace = True)\n",
    "\n",
    "# Group by movieId to find the average rating for each movie.\n",
    "ratings_grouped = ratings_data.groupby('movieId').mean().reset_index()\n",
    "\n",
    "# Drop null values if any.\n",
    "ratings_grouped.dropna()\n",
    "\n",
    "# Let's examine the first few rows.\n",
    "ratings_grouped.head()"
   ]
  },
  {
   "cell_type": "code",
   "execution_count": 156,
   "metadata": {},
   "outputs": [
    {
     "data": {
      "text/html": [
       "<div>\n",
       "<style scoped>\n",
       "    .dataframe tbody tr th:only-of-type {\n",
       "        vertical-align: middle;\n",
       "    }\n",
       "\n",
       "    .dataframe tbody tr th {\n",
       "        vertical-align: top;\n",
       "    }\n",
       "\n",
       "    .dataframe thead th {\n",
       "        text-align: right;\n",
       "    }\n",
       "</style>\n",
       "<table border=\"1\" class=\"dataframe\">\n",
       "  <thead>\n",
       "    <tr style=\"text-align: right;\">\n",
       "      <th></th>\n",
       "      <th>budget</th>\n",
       "      <th>id</th>\n",
       "      <th>original_title</th>\n",
       "      <th>revenue</th>\n",
       "      <th>rating</th>\n",
       "    </tr>\n",
       "  </thead>\n",
       "  <tbody>\n",
       "    <tr>\n",
       "      <th>0</th>\n",
       "      <td>60000000.0</td>\n",
       "      <td>949</td>\n",
       "      <td>Heat</td>\n",
       "      <td>187436818.0</td>\n",
       "      <td>3.593750</td>\n",
       "    </tr>\n",
       "    <tr>\n",
       "      <th>1</th>\n",
       "      <td>58000000.0</td>\n",
       "      <td>710</td>\n",
       "      <td>GoldenEye</td>\n",
       "      <td>352194034.0</td>\n",
       "      <td>1.500000</td>\n",
       "    </tr>\n",
       "    <tr>\n",
       "      <th>2</th>\n",
       "      <td>98000000.0</td>\n",
       "      <td>1408</td>\n",
       "      <td>Cutthroat Island</td>\n",
       "      <td>10017322.0</td>\n",
       "      <td>3.616279</td>\n",
       "    </tr>\n",
       "    <tr>\n",
       "      <th>3</th>\n",
       "      <td>52000000.0</td>\n",
       "      <td>524</td>\n",
       "      <td>Casino</td>\n",
       "      <td>116112375.0</td>\n",
       "      <td>3.555556</td>\n",
       "    </tr>\n",
       "    <tr>\n",
       "      <th>4</th>\n",
       "      <td>16500000.0</td>\n",
       "      <td>4584</td>\n",
       "      <td>Sense and Sensibility</td>\n",
       "      <td>135000000.0</td>\n",
       "      <td>5.000000</td>\n",
       "    </tr>\n",
       "  </tbody>\n",
       "</table>\n",
       "</div>"
      ],
      "text/plain": [
       "       budget    id         original_title      revenue    rating\n",
       "0  60000000.0   949                   Heat  187436818.0  3.593750\n",
       "1  58000000.0   710              GoldenEye  352194034.0  1.500000\n",
       "2  98000000.0  1408       Cutthroat Island   10017322.0  3.616279\n",
       "3  52000000.0   524                 Casino  116112375.0  3.555556\n",
       "4  16500000.0  4584  Sense and Sensibility  135000000.0  5.000000"
      ]
     },
     "execution_count": 156,
     "metadata": {},
     "output_type": "execute_result"
    }
   ],
   "source": [
    "# Now let's merge data from the 2 different csv files together based on equivalent movie id.\n",
    "\n",
    "# We'll start by renaming the movieId column in ratings_grouped into id to match with the equivalent id column name in metainfo_data.\n",
    "ratings_grouped.rename(columns={'movieId':'id'}, inplace=True)\n",
    "\n",
    "# Make sure the two columns that we plan to merge together are of the same type.\n",
    "metainfo_data['id'] = metainfo_data['id'].astype(str)\n",
    "ratings_grouped['id'] = ratings_grouped['id'].astype(str)\n",
    "\n",
    "# Finally, perform an inner join on the two tables.\n",
    "merged_data = metainfo_data.merge(ratings_grouped, on='id', how='inner')\n",
    "\n",
    "# Let's examine the first few columns.\n",
    "merged_data.head()"
   ]
  },
  {
   "cell_type": "code",
   "execution_count": 157,
   "metadata": {},
   "outputs": [
    {
     "name": "stderr",
     "output_type": "stream",
     "text": [
      "C:\\Users\\bonni\\anaconda3\\lib\\site-packages\\seaborn\\_decorators.py:36: FutureWarning: Pass the following variables as keyword args: x, y. From version 0.12, the only valid positional argument will be `data`, and passing other arguments without an explicit keyword will result in an error or misinterpretation.\n",
      "  warnings.warn(\n"
     ]
    },
    {
     "data": {
      "text/plain": [
       "Text(0.5, 1.0, 'Correlation between Movie Budget and Rating')"
      ]
     },
     "execution_count": 157,
     "metadata": {},
     "output_type": "execute_result"
    },
    {
     "data": {
      "image/png": "[encoded data removed]",
      "text/plain": [
       "<Figure size 576x288 with 1 Axes>"
      ]
     },
     "metadata": {
      "needs_background": "light"
     },
     "output_type": "display_data"
    }
   ],
   "source": [
    "# DECIDE WHICH GRAPH TO USE\n",
    "# OPTION 1: USING SEABORN\n",
    "\n",
    "# Using the table above, let's graph budget against rating.\n",
    "plt.figure(figsize=(8, 4))\n",
    "sns.regplot(merged_data['budget'], merged_data['rating'], scatter_kws={'color':'skyblue'}, line_kws={'color':'c'}).set_title(\"Correlation between Movie Budget and Rating\")"
   ]
  },
  {
   "cell_type": "code",
   "execution_count": 158,
   "metadata": {},
   "outputs": [
    {
     "data": {
      "text/plain": [
       "Text(0, 0.5, 'rating')"
      ]
     },
     "execution_count": 158,
     "metadata": {},
     "output_type": "execute_result"
    },
    {
     "data": {
      "image/png": "[encoded data removed]",
      "text/plain": [
       "<Figure size 432x288 with 1 Axes>"
      ]
     },
     "metadata": {
      "needs_background": "light"
     },
     "output_type": "display_data"
    }
   ],
   "source": [
    "# OPTION 2: USING MATPLOTLIB\n",
    "# Using the table above, let's graph budget against rating.\n",
    "plt.scatter(merged_data.budget, merged_data.rating)\n",
    "plt.title('Correlation between Movie Budget and Rating')\n",
    "plt.xlabel('budget')\n",
    "plt.ylabel('rating')"
   ]
  },
  {
   "cell_type": "code",
   "execution_count": 159,
   "metadata": {},
   "outputs": [
    {
     "name": "stdout",
     "output_type": "stream",
     "text": [
      "Based on the graph above, it seems like there isn't much correlation between movie budget and rating.\n",
      "To double check, let's find the covariance between movie budget and rating: -290285.92118326976\n",
      "While this seems like a big number, compared to the values in our data, the covariance is so small that it can be considered negligible.\n",
      "Thus, we can conclude that a movie's budget has very little influence on its rating.\n"
     ]
    }
   ],
   "source": [
    "print(\"Based on the graph above, it seems like there isn't much correlation between movie budget and rating.\")\n",
    "print(\"To double check, let's find the covariance between movie budget and rating:\", np.cov(merged_data.budget, merged_data.rating)[0][1])\n",
    "print(\"While this seems like a big number, compared to the values in our data, the covariance is so small that it can be considered negligible.\")\n",
    "print(\"Thus, we can conclude that a movie's budget has very little influence on its rating.\")"
   ]
  },
  {
   "cell_type": "code",
   "execution_count": 160,
   "metadata": {},
   "outputs": [],
   "source": [
    "# FURTHER EXPLORATION: Movie Budget and Rating\n",
    "# plt.figure(figsize=(8, 4))\n",
    "# sns.regplot(merged_data['rating'], merged_data['revenue'], scatter_kws={'color':'skyblue'}, line_kws={'color':'c'}).set_title(\"Correlation between Movie Budget and Rating\")\n",
    "# print(np.cov(merged_data.rating, merged_data.revenue)[0][1])"
   ]
  }
 ],
 "metadata": {
  "kernelspec": {
   "display_name": "Python 3",
   "language": "python",
   "name": "python3"
  },
  "language_info": {
   "codemirror_mode": {
    "name": "ipython",
    "version": 3
   },
   "file_extension": ".py",
   "mimetype": "text/x-python",
   "name": "python",
   "nbconvert_exporter": "python",
   "pygments_lexer": "ipython3",
   "version": "3.8.5"
  }
 },
 "nbformat": 4,
 "nbformat_minor": 4
}
